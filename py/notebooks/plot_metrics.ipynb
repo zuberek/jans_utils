{
 "cells": [
  {
   "cell_type": "code",
   "execution_count": 1,
   "id": "b652a968",
   "metadata": {},
   "outputs": [],
   "source": [
    "from py import plot_metrics"
   ]
  },
  {
   "cell_type": "code",
   "execution_count": null,
   "id": "56df6d1f",
   "metadata": {},
   "outputs": [],
   "source": [
    "octopus_out_path = ''\n",
    "plot_metrics(octopus_out_path, interactive=False)"
   ]
  }
 ],
 "metadata": {
  "kernelspec": {
   "display_name": "segmentation",
   "language": "python",
   "name": "python3"
  },
  "language_info": {
   "codemirror_mode": {
    "name": "ipython",
    "version": 3
   },
   "file_extension": ".py",
   "mimetype": "text/x-python",
   "name": "python",
   "nbconvert_exporter": "python",
   "pygments_lexer": "ipython3",
   "version": "3.10.5"
  }
 },
 "nbformat": 4,
 "nbformat_minor": 5
}
